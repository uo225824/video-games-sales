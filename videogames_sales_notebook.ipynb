{
 "cells": [
  {
   "cell_type": "code",
   "execution_count": null,
   "metadata": {},
   "outputs": [],
   "source": [
    "import pandas as pd\n",
    "import numpy as np\n",
    "import seaborn as sns\n",
    "import matplotlib.pyplot as plt"
   ]
  },
  {
   "cell_type": "code",
   "execution_count": null,
   "metadata": {
    "_cell_guid": "79c7e3d0-c299-4dcb-8224-4455121ee9b0",
    "_uuid": "d629ff2d2480ee46fbb7e2d37f6b5fab8052498a"
   },
   "outputs": [],
   "source": [
    "datos=pd.read_csv('D:/Python/Kaggle/video-games-sales/vgsales-12-4-2019.csv')\n"
   ]
  },
  {
   "cell_type": "code",
   "execution_count": null,
   "metadata": {},
   "outputs": [],
   "source": [
    "datos.head()"
   ]
  },
  {
   "cell_type": "markdown",
   "metadata": {},
   "source": [
    "# Preparación de los datos"
   ]
  },
  {
   "cell_type": "code",
   "execution_count": null,
   "metadata": {
    "_kg_hide-input": true,
    "_kg_hide-output": true
   },
   "outputs": [],
   "source": [
    "#Nueva variable\n",
    "datos['producido']=datos['Total_Shipped']\n",
    "datos.loc[datos['Total_Shipped'].isna(),'producido']=datos.loc[datos['Total_Shipped'].isna(),'Global_Sales']\n"
   ]
  },
  {
   "cell_type": "code",
   "execution_count": 2,
   "metadata": {
    "_kg_hide-input": true,
    "_kg_hide-output": true
   },
   "outputs": [
    {
     "ename": "NameError",
     "evalue": "name 'datos' is not defined",
     "output_type": "error",
     "traceback": [
      "\u001b[1;31m---------------------------------------------------------------------------\u001b[0m",
      "\u001b[1;31mNameError\u001b[0m                                 Traceback (most recent call last)",
      "\u001b[1;32m<ipython-input-2-9f6cf5ee793b>\u001b[0m in \u001b[0;36m<module>\u001b[1;34m\u001b[0m\n\u001b[1;32m----> 1\u001b[1;33m \u001b[0mindJ\u001b[0m\u001b[1;33m=\u001b[0m\u001b[0mdatos\u001b[0m\u001b[1;33m[\u001b[0m\u001b[1;34m'JP_Sales'\u001b[0m\u001b[1;33m]\u001b[0m\u001b[1;33m.\u001b[0m\u001b[0misna\u001b[0m\u001b[1;33m(\u001b[0m\u001b[1;33m)\u001b[0m\u001b[1;33m\u001b[0m\u001b[1;33m\u001b[0m\u001b[0m\n\u001b[0m\u001b[0;32m      2\u001b[0m \u001b[0mindN\u001b[0m\u001b[1;33m=\u001b[0m\u001b[0mdatos\u001b[0m\u001b[1;33m[\u001b[0m\u001b[1;34m'NA_Sales'\u001b[0m\u001b[1;33m]\u001b[0m\u001b[1;33m.\u001b[0m\u001b[0misna\u001b[0m\u001b[1;33m(\u001b[0m\u001b[1;33m)\u001b[0m\u001b[1;33m\u001b[0m\u001b[1;33m\u001b[0m\u001b[0m\n\u001b[0;32m      3\u001b[0m \u001b[0mindP\u001b[0m\u001b[1;33m=\u001b[0m\u001b[0mdatos\u001b[0m\u001b[1;33m[\u001b[0m\u001b[1;34m'PAL_Sales'\u001b[0m\u001b[1;33m]\u001b[0m\u001b[1;33m.\u001b[0m\u001b[0misna\u001b[0m\u001b[1;33m(\u001b[0m\u001b[1;33m)\u001b[0m\u001b[1;33m\u001b[0m\u001b[1;33m\u001b[0m\u001b[0m\n\u001b[0;32m      4\u001b[0m \u001b[0mindO\u001b[0m\u001b[1;33m=\u001b[0m\u001b[0mdatos\u001b[0m\u001b[1;33m[\u001b[0m\u001b[1;34m'Other_Sales'\u001b[0m\u001b[1;33m]\u001b[0m\u001b[1;33m.\u001b[0m\u001b[0misna\u001b[0m\u001b[1;33m(\u001b[0m\u001b[1;33m)\u001b[0m\u001b[1;33m\u001b[0m\u001b[1;33m\u001b[0m\u001b[0m\n",
      "\u001b[1;31mNameError\u001b[0m: name 'datos' is not defined"
     ]
    }
   ],
   "source": [
    "indJ=datos['JP_Sales'].isna()\n",
    "indN=datos['NA_Sales'].isna()\n",
    "indP=datos['PAL_Sales'].isna()\n",
    "indO=datos['Other_Sales'].isna()"
   ]
  },
  {
   "cell_type": "code",
   "execution_count": null,
   "metadata": {
    "_kg_hide-input": true,
    "_kg_hide-output": true
   },
   "outputs": [],
   "source": [
    "#Añadir zona faltante JP\n",
    "datos.loc[indJ,'JP_Sales']=datos.loc[indJ,'Global_Sales']-datos.loc[indJ,'NA_Sales']-datos.loc[indJ,'PAL_Sales']-datos.loc[indJ,'Other_Sales']\n",
    "datos.loc[datos['JP_Sales']<0.01,'JP_Sales']=0\n",
    "#Añadir zona faltante NA\n",
    "datos.loc[indN,'NA_Sales']=datos.loc[indN,'Global_Sales']-datos.loc[indN,'JP_Sales']-datos.loc[indN,'PAL_Sales']-datos.loc[indN,'Other_Sales']\n",
    "datos.loc[datos['NA_Sales']<0.01,'NA_Sales']=0\n",
    "#Añadir zona faltante PAL\n",
    "datos.loc[indP,'PAL_Sales']=datos.loc[indP,'Global_Sales']-datos.loc[indP,'NA_Sales']-datos.loc[indP,'JP_Sales']-datos.loc[indP,'Other_Sales']\n",
    "datos.loc[datos['PAL_Sales']<0.01,'PAL_Sales']=0\n",
    "#Añadir zona faltante Other\n",
    "datos.loc[indO,'Other_Sales']=datos.loc[indO,'Global_Sales']-datos.loc[indO,'NA_Sales']-datos.loc[indO,'PAL_Sales']-datos.loc[indO,'JP_Sales']\n",
    "datos.loc[datos['Other_Sales']<0.01,'Other_Sales']=0"
   ]
  },
  {
   "cell_type": "code",
   "execution_count": null,
   "metadata": {
    "_kg_hide-input": true,
    "_kg_hide-output": true
   },
   "outputs": [],
   "source": [
    "#Añadir indicador multiplataforma\n",
    "indD=datos['Name'].duplicated(keep=False)\n",
    "datos['Multiplataforma']=0\n",
    "datos.loc[indD,'Multiplataforma']=1"
   ]
  },
  {
   "cell_type": "markdown",
   "metadata": {},
   "source": [
    "# Analisis por plataforma y generacion"
   ]
  },
  {
   "cell_type": "markdown",
   "metadata": {},
   "source": [
    "### Plataformas con mayor número de juegos vendidos"
   ]
  },
  {
   "cell_type": "markdown",
   "metadata": {},
   "source": [
    "Una de las problematicas que presenta este dataset es que los valores de venta tienen como orden millones. Eso implica que cuando tenemos valores mas pequeños que los 0.00 millones, no podemos tener información del valor real, unicamente podemos saber que juegos son más vendidos que los otros. \n",
    "\n",
    "El primer punto a tratar es estudiar que plataformas son las que venden un mayor numero de juegos. "
   ]
  },
  {
   "cell_type": "code",
   "execution_count": null,
   "metadata": {
    "_kg_hide-input": true,
    "_kg_hide-output": false
   },
   "outputs": [],
   "source": [
    "b=datos.groupby(by=['Platform'])['producido'].sum().sort_values(ascending=False).to_frame()\n",
    "b_others=b[18:].sum()\n",
    "b.reset_index(inplace=True)\n",
    "b['Platform'][18]='Others'\n",
    "b['producido'][18]=b_others\n",
    "plt.figure(figsize=(10, 8))\n",
    "plt.pie(b['producido'][:19], labels=b['Platform'][:19], autopct='%1.1f%%', shadow=True, startangle=90)"
   ]
  },
  {
   "cell_type": "markdown",
   "metadata": {},
   "source": [
    "Viendo el comportamiento historico a priori no hay una gran diferencia entre las cuatro grandes plataformas de videojuegos,(PS, Xbox, PC, Nintendo) a excepción de ps que entre la generacion 2 y 3 suman mas de un 20% de los juegos vendidos. Esta visión tiene en cuenta todos los datos historicos, lo cual no es un analisis adecuado puesto que estamos teniendo en cuenta consolas obsoletas. Nos centraremos ahora en visualizar los ultimos cinco años."
   ]
  },
  {
   "cell_type": "markdown",
   "metadata": {},
   "source": [
    "### Plataformas con mayor número de juegos vendidos en los ultimos años"
   ]
  },
  {
   "cell_type": "code",
   "execution_count": null,
   "metadata": {
    "_kg_hide-input": true
   },
   "outputs": [],
   "source": [
    "datos_actuales=datos[(datos['Year']>2014)&(datos['producido'].isna()==False)]"
   ]
  },
  {
   "cell_type": "code",
   "execution_count": null,
   "metadata": {
    "_kg_hide-input": true
   },
   "outputs": [],
   "source": [
    "b=datos_actuales.groupby(by=['Platform'])['producido'].sum().sort_values(ascending=False).to_frame()\n",
    "b_others=b[7:].sum()\n",
    "b.reset_index(inplace=True)\n",
    "b['Platform'][7]='Others'\n",
    "b['producido'][7]=b_others\n",
    "plt.figure(figsize=(10, 8))\n",
    "plt.pie(b['producido'][:8], labels=b['Platform'][:8], autopct='%1.1f%%', shadow=True, startangle=90)"
   ]
  },
  {
   "cell_type": "markdown",
   "metadata": {},
   "source": [
    "El comportamiento es claramente distinto, como podemos ver los juegos mas vendidos publicados en los ultimos años, son aquellos que utilizan las plataformas de ultima generación, siendo ps4 la clara ganadora de todas. "
   ]
  },
  {
   "cell_type": "markdown",
   "metadata": {},
   "source": [
    "### Plataforma vs multiplataforma"
   ]
  },
  {
   "cell_type": "markdown",
   "metadata": {},
   "source": [
    "Para determinar cual de las dos opciones es la mas util, vamos a comparar el comportamineto de en el ranking en funcion de si el juego es multiplataforma o no. para ello utilizaremos un estimador no parametrico de la funcion de densidad. La idea aqui es ver de forma grafica cual de las dos opciones tiene una mayor probabilidad de exito o fracaso.\n",
    "\n",
    " Las funciones de densidad no estan escalada, lo importante no son tanto los valores como las formas. En ambos casos tenemos dos modas, que en cierta medida las podriamos ver como exito y fracaso. A priori los videojuegos de una sola plataforma parecen tener una mayor probabilidad de exito. Para ver esto un poco mas en detalle vamos ahora a estudiar este caso para cada una de las cuatro grandes plataformas."
   ]
  },
  {
   "cell_type": "code",
   "execution_count": null,
   "metadata": {},
   "outputs": [],
   "source": [
    "datos_actuales.loc[datos_actuales['ESRB_Rating'].isna(),'ESRB_Rating']='SC'"
   ]
  },
  {
   "cell_type": "code",
   "execution_count": null,
   "metadata": {},
   "outputs": [],
   "source": [
    "d = {'producido':'producido', 'Multiplataforma':'Multiplataforma'}\n",
    "datos_platf=datos_actuales.groupby(['Name','Genre','Publisher','ESRB_Rating']).agg({'producido':'sum','Multiplataforma':'mean'}).rename(columns=d)\n",
    "datos_platf=datos_platf.reset_index()\n",
    "datos_platf=datos_platf.sort_values(by=['producido'], ascending=False)\n",
    "datos_platf['Rank']=np.arange(datos_platf.shape[0])+1"
   ]
  },
  {
   "cell_type": "code",
   "execution_count": null,
   "metadata": {},
   "outputs": [],
   "source": [
    "datos_platf"
   ]
  },
  {
   "cell_type": "code",
   "execution_count": null,
   "metadata": {
    "_kg_hide-input": true
   },
   "outputs": [],
   "source": [
    "plt.figure(figsize=(15, 10))\n",
    "sns.displot(datos_platf, x=\"Rank\", col=\"Multiplataforma\", kind=\"kde\", fill=True)\n"
   ]
  },
  {
   "cell_type": "code",
   "execution_count": null,
   "metadata": {
    "_kg_hide-input": true
   },
   "outputs": [],
   "source": [
    "datos_actuales_plat=datos_actuales[(datos_actuales['Platform']=='PS4')| (datos_actuales['Platform']=='PC')| (datos_actuales['Platform']=='XOne')| (datos_actuales['Platform']=='NS')]"
   ]
  },
  {
   "cell_type": "code",
   "execution_count": null,
   "metadata": {
    "_kg_hide-input": true
   },
   "outputs": [],
   "source": [
    "plt.figure(figsize=(15, 10))\n",
    "sns.displot(datos_actuales_plat, x=\"Rank\", hue=\"Multiplataforma\", kind=\"kde\",col=\"Platform\", fill=True)"
   ]
  },
  {
   "cell_type": "markdown",
   "metadata": {},
   "source": [
    "A excepcion de la xbox que apenas tiene titulos propios, seguimos teniendo esa estructura de de dos modas. De apostar por una plataforma esa seria ps. Visto estos resultados uno podria pensar que la mejor opcion seria apostar por un juego para ps, sin embargo hay una serie de detalles que conviene mencionar. EL hecho de que no tengamos toda la informacion de las ventas reales hace que los juego multiplataforma no se puedan reagrupar. Eso genera un sesgo negativo en el analisis de los juegos multiplataforma. Lo segundo pero no menos importante es que las plataformas invierten mucho dinero en conseguir exclusividad en ciertos juegos con una fanbase  grande. Esto genera que parte de los juegos exitos exclusivos a una plataforma son exitos no por ser exclusivos si no por tener un gran numero de seguidores. \n",
    "\n",
    "La decision de elegir si apostar por una plataforma o multiplataforma depende tambien del incremento en el coste que pueda suponer desarrollar un juego en varias plataformas. "
   ]
  },
  {
   "cell_type": "markdown",
   "metadata": {},
   "source": [
    "# Analisis por Genero"
   ]
  },
  {
   "cell_type": "markdown",
   "metadata": {},
   "source": [
    "Ya hemos determinado que a priori la mejor decision podria ser desarrollar un juego multiplataforma, sin embargo, este resultado no es 100% seguro si no estudiamos previamente los generos de videojuegos mas demandados, y si esos generos son comunes para las distintas plataformas. No tendria ningun sentido desarrollar un juego multiplataforma cuando solo tiene demanda para una plataforma."
   ]
  },
  {
   "cell_type": "markdown",
   "metadata": {},
   "source": [
    "### Que genero de videojuegos es el mas demandado"
   ]
  },
  {
   "cell_type": "code",
   "execution_count": null,
   "metadata": {
    "_kg_hide-input": true
   },
   "outputs": [],
   "source": [
    "datos_genre = datos_actuales.groupby(by=['Genre'])['producido'].sum()\n",
    "datos_genre = datos_genre.reset_index()\n",
    "datos_genre['count']=datos_platf['Genre'].value_counts().reset_index().sort_values(by=['index'])['Genre'].values\n",
    "datos_genre = datos_genre.sort_values(by=['producido'], ascending=False)\n",
    "# data_genre"
   ]
  },
  {
   "cell_type": "code",
   "execution_count": null,
   "metadata": {
    "_kg_hide-input": true
   },
   "outputs": [],
   "source": [
    "plt.figure(figsize=(15, 10))\n",
    "sns.barplot(x=\"Genre\", y=\"producido\", palette=\"Set2\",data=datos_genre)\n",
    "plt.xticks(rotation=90)"
   ]
  },
  {
   "cell_type": "markdown",
   "metadata": {},
   "source": [
    "Estos son los generos que mas ventas generan. Sin embargo, un genero puede tener un numero muy grande de ventas y que el numero de juegos publicados sea muy grande, por lo que implica una mayor competencia y una menor ganancia, mientras que otro genero que haya generado un numero menor de ventas pero con una cantidad mucho menor de juegos puede generar una mayor ganancia. Lo que haremos ahora es estudiar la ganancia media por genero."
   ]
  },
  {
   "cell_type": "code",
   "execution_count": null,
   "metadata": {
    "_kg_hide-input": true
   },
   "outputs": [],
   "source": [
    "datos_genre['producido']=datos_genre['producido']/datos_genre['count']\n",
    "datos_genre = datos_genre.sort_values(by=['producido'], ascending=False)"
   ]
  },
  {
   "cell_type": "code",
   "execution_count": null,
   "metadata": {
    "_kg_hide-input": true
   },
   "outputs": [],
   "source": [
    "plt.figure(figsize=(15, 10))\n",
    "sns.barplot(x=\"Genre\", y=\"producido\", palette=\"Set2\",data=datos_genre)\n",
    "plt.xticks(rotation=90)"
   ]
  },
  {
   "cell_type": "markdown",
   "metadata": {},
   "source": [
    "### Analisis por cada una de las cuatro consolas principales "
   ]
  },
  {
   "cell_type": "markdown",
   "metadata": {},
   "source": [
    "Como hemos visto los shooter son la categoria que destaca sobre todas, pero tiene el mismo  impacto en todas las consolas?. El siguiente paso es estudiar cada una de estas categorias en funcion de la plataforma."
   ]
  },
  {
   "cell_type": "code",
   "execution_count": null,
   "metadata": {
    "_kg_hide-input": true
   },
   "outputs": [],
   "source": [
    "datos_ps4=datos_actuales[datos_actuales['Platform']=='PS4']\n",
    "datos_pc=datos_actuales[datos_actuales['Platform']=='PC']\n",
    "datos_xone=datos_actuales[datos_actuales['Platform']=='XOne']\n",
    "datos_ns=datos_actuales[datos_actuales['Platform']=='NS']"
   ]
  },
  {
   "cell_type": "code",
   "execution_count": null,
   "metadata": {
    "_kg_hide-input": true
   },
   "outputs": [],
   "source": [
    "#PS4\n",
    "datos_genre_ps4 = datos_ps4.groupby(by=['Genre'])['producido'].sum()\n",
    "datos_genre_ps4 = datos_genre_ps4.reset_index()\n",
    "datos_genre_ps4 = datos_genre_ps4.sort_values(by=['producido'], ascending=False)\n",
    "#PS4\n",
    "datos_genre_pc = datos_pc.groupby(by=['Genre'])['producido'].sum()\n",
    "datos_genre_pc = datos_genre_pc.reset_index()\n",
    "datos_genre_pc = datos_genre_pc.sort_values(by=['producido'], ascending=False)\n",
    "#PS4\n",
    "datos_genre_xone = datos_xone.groupby(by=['Genre'])['producido'].sum()\n",
    "datos_genre_xone = datos_genre_xone.reset_index()\n",
    "datos_genre_xone = datos_genre_xone.sort_values(by=['producido'], ascending=False)\n",
    "#PS4\n",
    "datos_genre_ns = datos_ns.groupby(by=['Genre'])['producido'].sum()\n",
    "datos_genre_ns = datos_genre_ns.reset_index()\n",
    "datos_genre_ns = datos_genre_ns.sort_values(by=['producido'], ascending=False)"
   ]
  },
  {
   "cell_type": "markdown",
   "metadata": {},
   "source": [
    "Ver plot volcanic"
   ]
  },
  {
   "cell_type": "code",
   "execution_count": null,
   "metadata": {
    "_kg_hide-input": true
   },
   "outputs": [],
   "source": [
    "plt.figure(figsize=(15, 10))\n",
    "sns.barplot(x=\"Genre\", y=\"producido\", data=datos_genre_ps4)\n",
    "plt.xticks(rotation=90)\n"
   ]
  },
  {
   "cell_type": "code",
   "execution_count": null,
   "metadata": {
    "_kg_hide-input": true
   },
   "outputs": [],
   "source": [
    "plt.figure(figsize=(15, 10))\n",
    "sns.barplot(x=\"Genre\", y=\"producido\", data=datos_genre_pc)\n",
    "plt.xticks(rotation=90)"
   ]
  },
  {
   "cell_type": "code",
   "execution_count": null,
   "metadata": {
    "_kg_hide-input": true
   },
   "outputs": [],
   "source": [
    "plt.figure(figsize=(15, 10))\n",
    "sns.barplot(x=\"Genre\", y=\"producido\", data=datos_genre_xone)\n",
    "plt.xticks(rotation=90)"
   ]
  },
  {
   "cell_type": "code",
   "execution_count": null,
   "metadata": {
    "_kg_hide-input": true
   },
   "outputs": [],
   "source": [
    "plt.figure(figsize=(15, 10))\n",
    "sns.barplot(x=\"Genre\", y=\"producido\", data=datos_genre_ns)\n",
    "plt.xticks(rotation=90)"
   ]
  },
  {
   "cell_type": "markdown",
   "metadata": {},
   "source": [
    "# Analisis por mercado"
   ]
  },
  {
   "cell_type": "markdown",
   "metadata": {},
   "source": [
    "El estudio de los mercados esta ligeramente sesgado, puesto que existen un numero de juegos importante en el que no sabes que cantidad que ha demandado cada uno. Existen algun dataset alternativo, sin embargo en muchos casos son contradictorios con el propio dataset.+"
   ]
  },
  {
   "cell_type": "code",
   "execution_count": null,
   "metadata": {
    "_kg_hide-input": true
   },
   "outputs": [],
   "source": [
    "datos_actuales_genre = datos_actuales[['Genre', 'NA_Sales', 'PAL_Sales', 'JP_Sales', 'Other_Sales']]\n",
    "# comp_genre\n",
    "comp_map = datos_actuales_genre.groupby(by=['Genre']).sum()\n",
    "comp_map=comp_map.sort_values(by=['NA_Sales'], ascending=False)\n",
    "comp_table = comp_map.reset_index()\n",
    "comp_table = pd.melt(comp_table, id_vars=['Genre'], value_vars=['NA_Sales', 'PAL_Sales', 'JP_Sales', 'Other_Sales'], var_name='Sale_Area', value_name='Sale_Price')\n",
    "a=comp_table.groupby(by=['Sale_Area']).sum().reset_index()\n",
    "a=a.sort_values(by=['Sale_Price'], ascending=False)\n",
    "plt.figure(figsize=(15, 10))\n",
    "sns.barplot( y='Sale_Price', x='Sale_Area', data=a)\n",
    "plt.xticks(rotation=70)"
   ]
  },
  {
   "cell_type": "markdown",
   "metadata": {},
   "source": [
    "### Por genero"
   ]
  },
  {
   "cell_type": "code",
   "execution_count": null,
   "metadata": {
    "_kg_hide-input": true
   },
   "outputs": [],
   "source": [
    "# comp_map\n",
    "plt.figure(figsize=(15, 10))\n",
    "sns.set(font_scale=1)\n",
    "sns.heatmap(comp_map, annot=True, fmt = '.1f')\n",
    "\n",
    "plt.xticks(fontsize=14)\n",
    "plt.yticks(fontsize=14)\n",
    "plt.show()"
   ]
  },
  {
   "cell_type": "code",
   "execution_count": null,
   "metadata": {
    "_kg_hide-input": true
   },
   "outputs": [],
   "source": [
    "plt.figure(figsize=(15, 10))\n",
    "sns.barplot(x='Genre', y='Sale_Price', hue='Sale_Area', palette=\"Set2\", data=comp_table)\n",
    "plt.xticks(rotation=70)\n"
   ]
  },
  {
   "cell_type": "markdown",
   "metadata": {},
   "source": [
    "El genero de shooter es posiblemente la mejor opcion a seguir, pero con la consecuencia de perder el mercado japones. La segunda mejor opcion es el genero sport y ocurre lo mismo que con el shooter. A pesar de la perdida del mercado japones, estas dos categorias siguen siendo las lideres.  Por otro lado generos como action y role tienen grandes ventas en todos los mercados, aunque cabe destacar que estos dos generos tenian mayor competencia en funcion de a los beneficios, con lo que no son peor opcion que los shooter y sport."
   ]
  },
  {
   "cell_type": "markdown",
   "metadata": {},
   "source": [
    "# Analisis top ventas"
   ]
  },
  {
   "cell_type": "code",
   "execution_count": null,
   "metadata": {
    "_kg_hide-input": true
   },
   "outputs": [],
   "source": [
    "datos_shooter=datos_platf[datos_platf['Genre']=='Shooter']\n"
   ]
  },
  {
   "cell_type": "code",
   "execution_count": null,
   "metadata": {
    "_kg_hide-input": true
   },
   "outputs": [],
   "source": [
    "datos_shooter_ESRB=datos_shooter[datos_shooter['ESRB_Rating'].isna()==False]\n",
    "datos_shooter_nESRB=datos_shooter[datos_shooter['ESRB_Rating'].isna()]\n"
   ]
  },
  {
   "cell_type": "code",
   "execution_count": null,
   "metadata": {
    "_kg_hide-input": true
   },
   "outputs": [],
   "source": [
    "sns.displot(datos_shooter_ESRB, x=\"Rank\", col='ESRB_Rating', kind=\"kde\", fill=True)\n"
   ]
  },
  {
   "cell_type": "code",
   "execution_count": null,
   "metadata": {
    "_kg_hide-input": true
   },
   "outputs": [],
   "source": [
    "datos_shooter_ESRB_pu = datos_shooter_ESRB.groupby(by=['Publisher'])['producido'].sum()\n",
    "datos_shooter_ESRB_pu= datos_shooter_ESRB_pu.reset_index()\n",
    "datos_shooter_ESRB_pu = datos_shooter_ESRB_pu.sort_values(by=['producido'], ascending=False)\n",
    "plt.figure(figsize=(15, 10))\n",
    "sns.barplot(x=\"Publisher\", y=\"producido\", data=datos_shooter_ESRB_pu.iloc[0:15,:],ci=None)\n",
    "plt.xticks(rotation=90)"
   ]
  },
  {
   "cell_type": "code",
   "execution_count": null,
   "metadata": {
    "_kg_hide-input": true
   },
   "outputs": [],
   "source": [
    "datos_shooter_final=datos_shooter_ESRB[((datos_shooter_ESRB['Publisher']=='Activision')|(datos_shooter_ESRB['Publisher']=='Electronic Arts'))&(datos_shooter_ESRB['ESRB_Rating']=='M')]"
   ]
  },
  {
   "cell_type": "code",
   "execution_count": null,
   "metadata": {},
   "outputs": [],
   "source": [
    "datos_shooter_final['producido'].mean()"
   ]
  },
  {
   "cell_type": "code",
   "execution_count": null,
   "metadata": {
    "_kg_hide-input": true
   },
   "outputs": [],
   "source": [
    "sns.displot(datos_shooter_final, x=\"Rank\", kind=\"kde\", fill=True)"
   ]
  },
  {
   "cell_type": "code",
   "execution_count": null,
   "metadata": {},
   "outputs": [],
   "source": [
    "sns.displot(datos_shooter_final, x=\"producido\", kind=\"kde\", fill=True)"
   ]
  }
 ],
 "metadata": {
  "kernelspec": {
   "display_name": "Python 3",
   "language": "python",
   "name": "python3"
  },
  "language_info": {
   "codemirror_mode": {
    "name": "ipython",
    "version": 3
   },
   "file_extension": ".py",
   "mimetype": "text/x-python",
   "name": "python",
   "nbconvert_exporter": "python",
   "pygments_lexer": "ipython3",
   "version": "3.7.6"
  }
 },
 "nbformat": 4,
 "nbformat_minor": 4
}
